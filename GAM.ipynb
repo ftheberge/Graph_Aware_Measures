{
 "cells": [
  {
   "cell_type": "markdown",
   "metadata": {},
   "source": [
    "## Example using GAM_igraph\n"
   ]
  },
  {
   "cell_type": "code",
   "execution_count": 1,
   "metadata": {},
   "outputs": [],
   "source": [
    "import igraph as ig\n",
    "import ecg\n",
    "import GAM_igraph\n",
    "import numpy as np\n"
   ]
  },
  {
   "cell_type": "code",
   "execution_count": 2,
   "metadata": {},
   "outputs": [],
   "source": [
    "## build graph with n=1000 vertices and n_comm=10 communities\n",
    "## p_in : edge probability within a community\n",
    "## p_out: edge probability between communities\n",
    "n_comm = 10\n",
    "p_in = .1\n",
    "p_out = 0.025\n",
    "P = np.full((n_comm,n_comm),p_out)\n",
    "np.fill_diagonal(P,p_in)\n",
    "## ground truth communities is stored in 'class' attribute\n",
    "g = ig.Graph.Preference(n=1000, type_dist=[1/n_comm]*n_comm, pref_matrix=P.tolist(), attribute='class')\n",
    "gt = ig.clustering.VertexClustering.FromAttribute(g,'class')"
   ]
  },
  {
   "cell_type": "code",
   "execution_count": 3,
   "metadata": {},
   "outputs": [
    {
     "name": "stdout",
     "output_type": "stream",
     "text": [
      "Adjusted Graph-Aware Rand Index for Louvain: 0.41333267708205457\n",
      "Adjusted Graph-Aware Rand Index for ECG: 0.8568919005508913\n",
      "\n",
      "Jaccard Graph-Aware for Louvain: 0.4229779937124893\n",
      "Jaccard Graph-Aware for ECG: 0.8201058201058201\n"
     ]
    }
   ],
   "source": [
    "## run Louvain and ECG:\n",
    "ml = g.community_multilevel()\n",
    "ec = g.community_ecg(ens_size=32)\n",
    "\n",
    "## compare a few Graph-Aware Measures (GAM)\n",
    "print('Adjusted Graph-Aware Rand Index for Louvain:',g.GAM(ml,gt))\n",
    "print('Adjusted Graph-Aware Rand Index for ECG:',g.GAM(ec,gt))\n",
    "print('\\nJaccard Graph-Aware for Louvain:',g.GAM(ml,gt,method=\"jaccard\",adjusted=False))\n",
    "print('Jaccard Graph-Aware for ECG:',g.GAM(ec,gt,method=\"jaccard\",adjusted=False))\n"
   ]
  },
  {
   "cell_type": "markdown",
   "metadata": {},
   "source": [
    "## Example using GAM_networkx"
   ]
  },
  {
   "cell_type": "code",
   "execution_count": 4,
   "metadata": {},
   "outputs": [],
   "source": [
    "import networkx as nx\n",
    "import GAM_networkx\n",
    "import numpy as np\n"
   ]
  },
  {
   "cell_type": "code",
   "execution_count": 5,
   "metadata": {},
   "outputs": [],
   "source": [
    "# Graph generation with 10 communities of size 10\n",
    "commSize = 10\n",
    "numComm = 10\n",
    "G = nx.generators.planted_partition_graph(l=numComm,k=commSize,p_in=0.3,p_out=0.025)\n",
    "true_comm = [set(list(range(commSize*i, commSize*(i+1)))) for i in range(numComm)]"
   ]
  },
  {
   "cell_type": "code",
   "execution_count": 6,
   "metadata": {},
   "outputs": [],
   "source": [
    "# Not many partitionning algorithms in networkx ...\n",
    "# Here using Girvan_Newman with the right number of communities:\n",
    "algo_comm = list(nx.algorithms.community.girvan_newman(G))[numComm-2]"
   ]
  },
  {
   "cell_type": "code",
   "execution_count": 7,
   "metadata": {},
   "outputs": [
    {
     "name": "stdout",
     "output_type": "stream",
     "text": [
      "Adjusted Graph-Aware Rand Index for Girvan-Newman: 0.1927746520580396\n",
      "Jaccard Graph-Aware for Girvan-Newman: 0.46285714285714286\n"
     ]
    }
   ],
   "source": [
    "print(\"Adjusted Graph-Aware Rand Index for Girvan-Newman:\",G.GAM(true_comm, algo_comm))\n",
    "print(\"Jaccard Graph-Aware for Girvan-Newman:\",G.GAM(true_comm, algo_comm, method=\"jaccard\",adjusted=False))\n"
   ]
  },
  {
   "cell_type": "code",
   "execution_count": 8,
   "metadata": {},
   "outputs": [
    {
     "name": "stdout",
     "output_type": "stream",
     "text": [
      "Adjusted non-Graph-Aware Rand Index for Girvan-Newman: 0.4970906068162926\n",
      "Adjusted Graph-Aware Rand Index for Girvan-Newman: 0.1927746520580396\n"
     ]
    }
   ],
   "source": [
    "## adjusted RAND index requires a different format (label for each vertex)\n",
    "from sklearn.metrics import adjusted_rand_score as ARI\n",
    "\n",
    "## build dictionaries for the communities\n",
    "tc = {v:idx for idx, part in enumerate(true_comm) for v in part}\n",
    "ac = {v:idx for idx, part in enumerate(algo_comm) for v in part}\n",
    "\n",
    "## compute ARI\n",
    "print(\"Adjusted non-Graph-Aware Rand Index for Girvan-Newman:\",ARI(list(tc.values()), list(ac.values())))\n",
    "\n",
    "## dictionaries can also be used with GAM\n",
    "print(\"Adjusted Graph-Aware Rand Index for Girvan-Newman:\",G.GAM(tc, ac))"
   ]
  }
 ],
 "metadata": {
  "kernelspec": {
   "display_name": "Python 3",
   "language": "python",
   "name": "python3"
  },
  "language_info": {
   "codemirror_mode": {
    "name": "ipython",
    "version": 3
   },
   "file_extension": ".py",
   "mimetype": "text/x-python",
   "name": "python",
   "nbconvert_exporter": "python",
   "pygments_lexer": "ipython3",
   "version": "3.6.4"
  }
 },
 "nbformat": 4,
 "nbformat_minor": 2
}
