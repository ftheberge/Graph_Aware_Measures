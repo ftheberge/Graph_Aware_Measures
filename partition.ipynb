{
 "cells": [
  {
   "cell_type": "markdown",
   "metadata": {},
   "source": [
    "## Example using partition_networkx"
   ]
  },
  {
   "cell_type": "code",
   "execution_count": 1,
   "metadata": {},
   "outputs": [],
   "source": [
    "## don't forget to 'pip install python-louvain' to get 'community' \n",
    "import networkx as nx\n",
    "import community\n",
    "import partition_networkx\n",
    "import numpy as np\n"
   ]
  },
  {
   "cell_type": "code",
   "execution_count": 2,
   "metadata": {},
   "outputs": [],
   "source": [
    "# Graph generation with 10 communities of size 100\n",
    "commSize = 100\n",
    "numComm = 10\n",
    "G = nx.generators.planted_partition_graph(l=numComm, k=commSize, p_in=0.1, p_out=0.02)\n",
    "## store groud truth communities as 'iterables of sets of vertices'\n",
    "true_comm = [set(list(range(commSize*i, commSize*(i+1)))) for i in range(numComm)]"
   ]
  },
  {
   "cell_type": "code",
   "execution_count": 3,
   "metadata": {},
   "outputs": [],
   "source": [
    "## run Louvain and ECG:\n",
    "ml = community.best_partition(G)\n",
    "ec = community.ecg(G, ens_size=32)"
   ]
  },
  {
   "cell_type": "code",
   "execution_count": 4,
   "metadata": {},
   "outputs": [
    {
     "name": "stdout",
     "output_type": "stream",
     "text": [
      "Adjusted Graph-Aware Rand Index for Louvain: 0.8764806569465213\n",
      "Adjusted Graph-Aware Rand Index for ecg: 0.9522145745616212\n",
      "\n",
      "Jaccard Graph-Aware for Louvain: 0.8543407192154013\n",
      "Jaccard Graph-Aware for ecg: 0.9404945904173106\n"
     ]
    }
   ],
   "source": [
    "# for 'gam' partition are either iterables of sets of vertices or 'dict'\n",
    "print(\"Adjusted Graph-Aware Rand Index for Louvain:\",G.gam(true_comm, ml))\n",
    "print(\"Adjusted Graph-Aware Rand Index for ecg:\",G.gam(true_comm, ec.partition))\n",
    "\n",
    "print(\"\\nJaccard Graph-Aware for Louvain:\",G.gam(true_comm, ml, method=\"jaccard\",adjusted=False))\n",
    "print(\"Jaccard Graph-Aware for ecg:\",G.gam(true_comm, ec.partition, method=\"jaccard\",adjusted=False))\n"
   ]
  },
  {
   "cell_type": "code",
   "execution_count": 5,
   "metadata": {},
   "outputs": [
    {
     "name": "stdout",
     "output_type": "stream",
     "text": [
      "Adjusted non-Graph-Aware Rand Index for Louvain: 0.7984237116204754\n",
      "Adjusted non-Graph-Aware Rand Index for ecg: 0.9319379427024338\n"
     ]
    }
   ],
   "source": [
    "## adjusted RAND index requires iterables over the vertices:\n",
    "from sklearn.metrics import adjusted_rand_score as ARI\n",
    "tc = {val:idx for idx,part in enumerate(true_comm) for val in part}\n",
    "\n",
    "## compute ARI\n",
    "print(\"Adjusted non-Graph-Aware Rand Index for Louvain:\",ARI(list(tc.values()), list(ml.values())))\n",
    "print(\"Adjusted non-Graph-Aware Rand Index for ecg:\",ARI(list(tc.values()), list(ec.partition.values())))\n"
   ]
  },
  {
   "cell_type": "markdown",
   "metadata": {},
   "source": [
    "## Example using partition_igraph\n"
   ]
  },
  {
   "cell_type": "code",
   "execution_count": 6,
   "metadata": {},
   "outputs": [],
   "source": [
    "import igraph as ig\n",
    "import partition_igraph\n"
   ]
  },
  {
   "cell_type": "code",
   "execution_count": 7,
   "metadata": {},
   "outputs": [],
   "source": [
    "## previous graph 'G' in igraph format:\n",
    "g = ig.Graph(directed=False)\n",
    "g.add_vertices(G.nodes())\n",
    "g.add_edges(G.edges())"
   ]
  },
  {
   "cell_type": "code",
   "execution_count": 8,
   "metadata": {},
   "outputs": [],
   "source": [
    "## run Louvain and ECG:\n",
    "ml = g.community_multilevel()\n",
    "ec = g.community_ecg(ens_size=32)\n"
   ]
  },
  {
   "cell_type": "code",
   "execution_count": 9,
   "metadata": {},
   "outputs": [
    {
     "name": "stdout",
     "output_type": "stream",
     "text": [
      "Adjusted Graph-Aware Rand Index for Louvain: 0.8276072260541841\n",
      "Adjusted Graph-Aware Rand Index for ECG: 0.9512836896504839\n",
      "\n",
      "Jaccard Graph-Aware for Louvain: 0.8040646169880146\n",
      "Jaccard Graph-Aware for ECG: 0.939370534852288\n"
     ]
    }
   ],
   "source": [
    "## for 'gam' partition are either 'igraph.clustering.VertexClustering' or 'dict'\n",
    "print('Adjusted Graph-Aware Rand Index for Louvain:',g.gam(ml,tc))\n",
    "print('Adjusted Graph-Aware Rand Index for ECG:',g.gam(ec,tc))\n",
    "print('\\nJaccard Graph-Aware for Louvain:',g.gam(ml,tc,method=\"jaccard\",adjusted=False))\n",
    "print('Jaccard Graph-Aware for ECG:',g.gam(ec,tc,method=\"jaccard\",adjusted=False))\n"
   ]
  }
 ],
 "metadata": {
  "kernelspec": {
   "display_name": "Python 3",
   "language": "python",
   "name": "python3"
  },
  "language_info": {
   "codemirror_mode": {
    "name": "ipython",
    "version": 3
   },
   "file_extension": ".py",
   "mimetype": "text/x-python",
   "name": "python",
   "nbconvert_exporter": "python",
   "pygments_lexer": "ipython3",
   "version": "3.6.4"
  }
 },
 "nbformat": 4,
 "nbformat_minor": 2
}
